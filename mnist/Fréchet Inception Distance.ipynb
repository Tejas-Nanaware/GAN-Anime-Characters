{
 "cells": [
  {
   "cell_type": "code",
   "execution_count": 94,
   "metadata": {},
   "outputs": [],
   "source": [
    "import numpy as np\n",
    "from scipy.linalg import sqrtm\n",
    "from sklearn.metrics import mutual_info_score\n",
    "from keras.models import load_model\n",
    "from keras.datasets.mnist import load_data\n",
    "import matplotlib.pyplot as plt\n",
    "# MacOS matplotlib kernel issue\n",
    "import os\n",
    "os.environ['KMP_DUPLICATE_LIB_OK']='True'"
   ]
  },
  {
   "cell_type": "code",
   "execution_count": 10,
   "metadata": {},
   "outputs": [],
   "source": [
    "def fréchet_inception_distance(image1, image2):\n",
    "    mean1, stddev1 = np.mean(image1, axis=0), np.cov(image1, rowvar=False)\n",
    "    mean2, stddev2 = np.mean(image2, axis=0), np.cov(image2, rowvar=False)\n",
    "    sum_squared_diff_mean = np.sum((mean1 - mean2) ** 2)\n",
    "    root_prod_cov = sqrtm(stddev1.dot(stddev2))\n",
    "    \n",
    "    if np.iscomplexobj(root_prod_cov):\n",
    "        root_prod_cov = root_prod_cov.real\n",
    "    \n",
    "    fid = sum_squared_diff_mean + np.trace(stddev1 + stddev2 - 2. * root_prod_cov)\n",
    "    return fid"
   ]
  },
  {
   "cell_type": "code",
   "execution_count": 77,
   "metadata": {},
   "outputs": [
    {
     "data": {
      "text/plain": [
       "<matplotlib.image.AxesImage at 0x652075e50>"
      ]
     },
     "execution_count": 77,
     "metadata": {},
     "output_type": "execute_result"
    },
    {
     "data": {
      "image/png": "[encoded data removed]",
      "text/plain": [
       "<Figure size 432x288 with 1 Axes>"
      ]
     },
     "metadata": {
      "needs_background": "light"
     },
     "output_type": "display_data"
    }
   ],
   "source": [
    "(train_images, train_labels), (_, _) = load_data()\n",
    "train_images = train_images.reshape(train_images.shape[0], 28, 28, 1).astype('float32')\n",
    "\n",
    "generator_model = load_model('./DigitModels/GENmodel_150.h5')\n",
    "gen_shape = tuple(generator_model.input.get_shape().as_list()[1:])\n",
    "gen_noise = np.random.normal(loc=0, scale=1, size=(1,)+gen_shape)\n",
    "\n",
    "created_digit = generator_model.predict(gen_noise)\n",
    "created_digit = created_digit[0]\n",
    "denormalized_digit = ((created_digit + 1) * 127.5) / 255\n",
    "squeezed_digit = denormalized_digit.reshape(28, 28).astype('float32')\n",
    "plt.imshow(squeezed_digit)"
   ]
  },
  {
   "cell_type": "code",
   "execution_count": 78,
   "metadata": {},
   "outputs": [
    {
     "data": {
      "text/plain": [
       "<matplotlib.image.AxesImage at 0x65235e1d0>"
      ]
     },
     "execution_count": 78,
     "metadata": {},
     "output_type": "execute_result"
    },
    {
     "data": {
      "image/png": "[encoded data removed]",
      "text/plain": [
       "<Figure size 432x288 with 1 Axes>"
      ]
     },
     "metadata": {
      "needs_background": "light"
     },
     "output_type": "display_data"
    }
   ],
   "source": [
    "my_digit = 0\n",
    "train_filter = np.where((train_labels == my_digit ))\n",
    "train_images = train_images[train_filter]\n",
    "mnist_image = train_images[0]\n",
    "squeezed_mnist = mnist_image.reshape(28, 28).astype('float32')\n",
    "plt.imshow(squeezed_mnist)"
   ]
  },
  {
   "cell_type": "code",
   "execution_count": 79,
   "metadata": {},
   "outputs": [
    {
     "data": {
      "text/plain": [
       "245541.94606423637"
      ]
     },
     "execution_count": 79,
     "metadata": {},
     "output_type": "execute_result"
    }
   ],
   "source": [
    "fréchet_inception_distance(squeezed_digit, squeezed_mnist)"
   ]
  },
  {
   "cell_type": "code",
   "execution_count": 92,
   "metadata": {},
   "outputs": [],
   "source": [
    "def jsd(image1, image2):\n",
    "    image1 = image1.flatten()\n",
    "    image2 = image2.flatten()\n",
    "    mean = (image1 + image2) / 2\n",
    "    divergence = (entropy(image1, mean) + entropy(image2, mean)) / 2\n",
    "    distance = np.sqrt(divergence)\n",
    "    return distance"
   ]
  },
  {
   "cell_type": "code",
   "execution_count": 93,
   "metadata": {},
   "outputs": [
    {
     "data": {
      "text/plain": [
       "0.9800616935365165"
      ]
     },
     "execution_count": 93,
     "metadata": {},
     "output_type": "execute_result"
    }
   ],
   "source": [
    "jsd(squeezed_digit, squeezed_mnist)"
   ]
  },
  {
   "cell_type": "code",
   "execution_count": 91,
   "metadata": {},
   "outputs": [
    {
     "data": {
      "text/plain": [
       "(784,)"
      ]
     },
     "execution_count": 91,
     "metadata": {},
     "output_type": "execute_result"
    }
   ],
   "source": [
    "squeezed_digit.flatten().shape"
   ]
  },
  {
   "cell_type": "code",
   "execution_count": 98,
   "metadata": {},
   "outputs": [
    {
     "data": {
      "text/plain": [
       "1.3270247138103315"
      ]
     },
     "execution_count": 98,
     "metadata": {},
     "output_type": "execute_result"
    }
   ],
   "source": [
    "mutual_info_score(squeezed_digit.flatten(), squeezed_mnist.flatten())"
   ]
  },
  {
   "cell_type": "code",
   "execution_count": null,
   "metadata": {},
   "outputs": [],
   "source": []
  }
 ],
 "metadata": {
  "kernelspec": {
   "display_name": "Python 3",
   "language": "python",
   "name": "python3"
  },
  "language_info": {
   "codemirror_mode": {
    "name": "ipython",
    "version": 3
   },
   "file_extension": ".py",
   "mimetype": "text/x-python",
   "name": "python",
   "nbconvert_exporter": "python",
   "pygments_lexer": "ipython3",
   "version": "3.7.6"
  }
 },
 "nbformat": 4,
 "nbformat_minor": 4
}
