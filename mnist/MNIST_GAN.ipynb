{
 "cells": [
  {
   "cell_type": "code",
   "execution_count": 34,
   "metadata": {},
   "outputs": [],
   "source": [
    "import numpy as np\n",
    "import glob\n",
    "from keras.datasets import mnist\n",
    "from keras import Model\n",
    "from keras import layers\n",
    "from keras import Input\n",
    "from keras import losses\n",
    "from keras.optimizers import Adam\n",
    "from keras.regularizers import l2\n",
    "from tensorflow.data import Dataset\n",
    "# import matplotlib as mpl\n",
    "# mpl.use('Agg')\n",
    "import matplotlib.pyplot as plt\n",
    "# MacOS matplotlib kernel issue\n",
    "import os\n",
    "os.environ['KMP_DUPLICATE_LIB_OK']='True'"
   ]
  },
  {
   "cell_type": "code",
   "execution_count": 5,
   "metadata": {},
   "outputs": [],
   "source": [
    "(train_images, train_labels), (_, _) = mnist.load_data()\n",
    "train_images = train_images.reshape(train_images.shape[0], 28, 28, 1).astype('float32')\n",
    "train_images = (train_images - 127.5) / 127.5"
   ]
  },
  {
   "cell_type": "code",
   "execution_count": 18,
   "metadata": {},
   "outputs": [],
   "source": [
    "BUFFER_SIZE = 60000\n",
    "BATCH_SIZE = 128\n",
    "NOISE = (100,)\n",
    "GAN_STEPS = 100\n",
    "IMAGE_SHAPE = (28, 28, 1)"
   ]
  },
  {
   "cell_type": "code",
   "execution_count": 10,
   "metadata": {},
   "outputs": [],
   "source": [
    "train_set = Dataset.from_tensor_slices(train_images).shuffle(BUFFER_SIZE).batch(BATCH_SIZE)"
   ]
  },
  {
   "cell_type": "code",
   "execution_count": 14,
   "metadata": {},
   "outputs": [],
   "source": [
    "def generator_model(noise=NOISE):\n",
    "    gen_input = Input(shape=noise)\n",
    "    \n",
    "    generator = layers.Dense(7 * 7 * 256, use_bias=False)(gen_input)\n",
    "    generator = layers.LeakyReLU()(generator)\n",
    "    generator = layers.Reshape((7, 7, 256))(generator)\n",
    "    \n",
    "    generator = layers.Conv2DTranspose(filters=128, kernel_size=(5,5), strides=(1,1), use_bias=False, padding='same', kernel_initializer='glorot_uniform')(generator)\n",
    "    generator = layers.BatchNormalization(momentum=0.5)(generator)\n",
    "    generator = layers.LeakyReLU()(generator)\n",
    "    \n",
    "    \n",
    "    generator = layers.Conv2DTranspose(filters=64, kernel_size=(5,5), strides=(2,2), use_bias=False, padding='same', kernel_initializer='glorot_uniform')(generator)\n",
    "    generator = layers.BatchNormalization(momentum=0.5)(generator)\n",
    "    generator = layers.LeakyReLU()(generator)\n",
    "            \n",
    "    generator = layers.Conv2DTranspose(filters=1, kernel_size=(5,5), strides=(2,2), activation='tanh', use_bias=False, padding='same', kernel_initializer='glorot_uniform')(generator)\n",
    "    \n",
    "    model = Model(inputs=gen_input, outputs=generator)\n",
    "    model.compile(optimizer=Adam(lr=1e-4), loss=losses.categorical_crossentropy, metrics=['accuracy'])\n",
    "    \n",
    "    return model"
   ]
  },
  {
   "cell_type": "code",
   "execution_count": 19,
   "metadata": {},
   "outputs": [],
   "source": [
    "def discriminator_model(image_shape=IMAGE_SHAPE):\n",
    "    disc_input = Input(shape=image_shape)\n",
    "    \n",
    "    discriminator = layers.Conv2D(filters=64, kernel_size=(5,5), padding='same', strides=(2,2), kernel_initializer='glorot_uniform', kernel_regularizer=l2(1e-3))(disc_input)\n",
    "    discriminator = layers.LeakyReLU()(discriminator)\n",
    "    discriminator = layers.Dropout(0.3)(discriminator)\n",
    "    \n",
    "    discriminator = layers.Conv2D(filters=128, kernel_size=(5,5), padding='same', strides=(2,2), kernel_initializer='glorot_uniform', kernel_regularizer=l2(1e-3))(disc_input)\n",
    "    discriminator = layers.LeakyReLU()(discriminator)\n",
    "    discriminator = layers.Dropout(0.3)(discriminator)\n",
    "        \n",
    "    discriminator = layers.Flatten()(discriminator)\n",
    "    discriminator = layers.Dropout(0.4)(discriminator)\n",
    "    discriminator = layers.Dense(1, activation='softmax')(discriminator)\n",
    "    \n",
    "    model = Model(inputs=disc_input, outputs=discriminator)\n",
    "    model.compile(optimizer=Adam(lr=1e-4), loss=losses.categorical_crossentropy, metrics=['accuracy'])\n",
    "    \n",
    "    return model"
   ]
  },
  {
   "cell_type": "code",
   "execution_count": 20,
   "metadata": {},
   "outputs": [
    {
     "name": "stdout",
     "output_type": "stream",
     "text": [
      "_________________________________________________________________\n",
      "Layer (type)                 Output Shape              Param #   \n",
      "=================================================================\n",
      "input_2 (InputLayer)         (None, 100)               0         \n",
      "_________________________________________________________________\n",
      "dense_2 (Dense)              (None, 12544)             1254400   \n",
      "_________________________________________________________________\n",
      "leaky_re_lu_4 (LeakyReLU)    (None, 12544)             0         \n",
      "_________________________________________________________________\n",
      "reshape_2 (Reshape)          (None, 7, 7, 256)         0         \n",
      "_________________________________________________________________\n",
      "conv2d_transpose_4 (Conv2DTr (None, 7, 7, 128)         819200    \n",
      "_________________________________________________________________\n",
      "batch_normalization_3 (Batch (None, 7, 7, 128)         512       \n",
      "_________________________________________________________________\n",
      "leaky_re_lu_5 (LeakyReLU)    (None, 7, 7, 128)         0         \n",
      "_________________________________________________________________\n",
      "conv2d_transpose_5 (Conv2DTr (None, 14, 14, 64)        204800    \n",
      "_________________________________________________________________\n",
      "batch_normalization_4 (Batch (None, 14, 14, 64)        256       \n",
      "_________________________________________________________________\n",
      "leaky_re_lu_6 (LeakyReLU)    (None, 14, 14, 64)        0         \n",
      "_________________________________________________________________\n",
      "conv2d_transpose_6 (Conv2DTr (None, 28, 28, 1)         1600      \n",
      "=================================================================\n",
      "Total params: 2,280,768\n",
      "Trainable params: 2,280,384\n",
      "Non-trainable params: 384\n",
      "_________________________________________________________________\n"
     ]
    }
   ],
   "source": [
    "gen_model = generator_model(NOISE)\n",
    "gen_model.summary()"
   ]
  },
  {
   "cell_type": "code",
   "execution_count": 22,
   "metadata": {},
   "outputs": [
    {
     "name": "stdout",
     "output_type": "stream",
     "text": [
      "_________________________________________________________________\n",
      "Layer (type)                 Output Shape              Param #   \n",
      "=================================================================\n",
      "input_4 (InputLayer)         (None, 28, 28, 1)         0         \n",
      "_________________________________________________________________\n",
      "conv2d_4 (Conv2D)            (None, 14, 14, 128)       3328      \n",
      "_________________________________________________________________\n",
      "leaky_re_lu_10 (LeakyReLU)   (None, 14, 14, 128)       0         \n",
      "_________________________________________________________________\n",
      "dropout_5 (Dropout)          (None, 14, 14, 128)       0         \n",
      "_________________________________________________________________\n",
      "flatten_2 (Flatten)          (None, 25088)             0         \n",
      "_________________________________________________________________\n",
      "dropout_6 (Dropout)          (None, 25088)             0         \n",
      "_________________________________________________________________\n",
      "dense_4 (Dense)              (None, 1)                 25089     \n",
      "=================================================================\n",
      "Total params: 28,417\n",
      "Trainable params: 28,417\n",
      "Non-trainable params: 0\n",
      "_________________________________________________________________\n"
     ]
    }
   ],
   "source": [
    "disc_model = discriminator_model()\n",
    "disc_model.summary()\n",
    "disc_model.trainable = False"
   ]
  },
  {
   "cell_type": "code",
   "execution_count": 24,
   "metadata": {},
   "outputs": [
    {
     "name": "stdout",
     "output_type": "stream",
     "text": [
      "_________________________________________________________________\n",
      "Layer (type)                 Output Shape              Param #   \n",
      "=================================================================\n",
      "input_6 (InputLayer)         (None, 100)               0         \n",
      "_________________________________________________________________\n",
      "model_2 (Model)              (None, 28, 28, 1)         2280768   \n",
      "_________________________________________________________________\n",
      "model_4 (Model)              (None, 1)                 28417     \n",
      "=================================================================\n",
      "Total params: 2,309,185\n",
      "Trainable params: 2,280,384\n",
      "Non-trainable params: 28,801\n",
      "_________________________________________________________________\n"
     ]
    }
   ],
   "source": [
    "gan_gen_input = Input(shape=NOISE)\n",
    "gan_gen = gen_model(gan_gen_input)\n",
    "gan_dis = disc_model(gan_gen)\n",
    "\n",
    "gan_model = Model(inputs=gan_gen_input, outputs=gan_dis)\n",
    "gan_model.compile(optimizer=Adam(lr=1e-4), loss=losses.categorical_crossentropy, metrics=['accuracy'])\n",
    "gan_model.summary()"
   ]
  },
  {
   "cell_type": "code",
   "execution_count": 31,
   "metadata": {},
   "outputs": [],
   "source": [
    "def save_fig(predicted, step):\n",
    "    # Only 32 images will be printed\n",
    "    if BATCH_SIZE > 32:\n",
    "        predicted = predicted[:32]\n",
    "    num_images = predicted.shape[0]\n",
    "    fig = plt.figure(figsize=(15,7))\n",
    "    columns = 8\n",
    "    rows = np.ceil(num_images / columns)\n",
    "    for i in range(num_images):\n",
    "        fig.add_subplot(rows, columns, i+1)\n",
    "        my_image = predicted[i]\n",
    "        # Denormalize Image\n",
    "        my_image = ((my_image + 1) * 127.5) / 255\n",
    "#         plt.imshow(my_image[:, :, 0], cmap='gray')\n",
    "    plt.savefig('./GeneratedDigits/image_'+step+'.jpg', bbox_inches = 'tight', pad_inches = 0.1)\n",
    "    plt.show(block=True)\n",
    "    plt.close('all')"
   ]
  },
  {
   "cell_type": "code",
   "execution_count": 35,
   "metadata": {},
   "outputs": [],
   "source": [
    "for file in glob.glob('./GeneratedDigits/*'):\n",
    "    if file.endswith('.jpg'):\n",
    "        os.remove(file)\n",
    "for file in glob.glob('./DigitModels/*'):\n",
    "    if file.endswith('.h5'):\n",
    "        os.remove(file)"
   ]
  },
  {
   "cell_type": "code",
   "execution_count": 38,
   "metadata": {},
   "outputs": [],
   "source": [
    "def train_batch(images):\n",
    "    # Create digits using generator\n",
    "    gen_noise = np.random.normal(loc=0, scale=1, size=(BATCH_SIZE,)+NOISE)\n",
    "    created_digits = gen_model.predict(gen_noise)\n",
    "\n",
    "    # Train Discriminator\n",
    "    real_labels = np.ones((BATCH_SIZE, 1), dtype=np.int).ravel()\n",
    "    fake_labels = np.zeros((BATCH_SIZE, 1), dtype=np.int).ravel()\n",
    "\n",
    "    disc_model.trainable = True\n",
    "    gen_model.trainable = False\n",
    "\n",
    "    real_disc_metrics = disc_model.train_on_batch(digit_batch, real_labels)\n",
    "    gen_disc_metrics = disc_model.train_on_batch(created_digits, fake_labels)\n",
    "\n",
    "    # Train GAN\n",
    "    gen_model.trainable = True\n",
    "    disc_model.trainable = False\n",
    "\n",
    "    gan_noise = np.random.normal(loc=0, scale=1, size=(BATCH_SIZE,)+NOISE)\n",
    "    gan_labels = np.ones((BATCH_SIZE, 1), dtype=np.int).ravel()\n",
    "    gan_metrics = gan_model.train_on_batch(gan_noise, gan_labels)\n",
    "    \n",
    "    return real_disc_metrics, gen_disc_metrics, gan_metrics"
   ]
  },
  {
   "cell_type": "code",
   "execution_count": null,
   "metadata": {},
   "outputs": [],
   "source": [
    "with open('mnist_log.csv', 'w') as log:\n",
    "    log.write('Step,RealDiscLoss,RealDiscAcc,GenDiscLoss,GenDiscAcc,GANLoss,GANAcc\\n')\n",
    "\n",
    "for step in range(1, GAN_STEPS+1):\n",
    "    print('**************************************')\n",
    "    print()\n",
    "    print('               Step: ', step)\n",
    "    print()\n",
    "    print('**************************************')\n",
    "    \n",
    "    if ((step % 1) == 0):\n",
    "        created_digits = gen_model.predict(gen_noise)\n",
    "        save_fig(created_digits, str(step))\n",
    "    \n",
    "    real_disc_metrics, gen_disc_metrics, gan_metrics = []\n",
    "    for digit_batch in train_set:\n",
    "        real_disc_metrics, gen_disc_metrics, gan_metrics = train_batch(digit_batch)\n",
    "    \n",
    "    # Append Log\n",
    "    with open('mnist_log.csv', 'a') as log:\n",
    "        log.write('%d,%f,%f,%f,%f,%f,%f\\n' % (step, real_disc_metrics[0], real_disc_metrics[1], gen_disc_metrics[0], gen_disc_metrics[1], gan_metrics[0], gan_metrics[1]))\n",
    "    if ((step % 100) == 0):\n",
    "        gan_model.save('./DigitModels/GANmodel_'+str(step)+'.h5')\n",
    "        gen_model.trainable = True\n",
    "        gen_model.save('./DigitModels/GENmodel_'+str(step)+'.h5')\n",
    "        disc_model.trainable = True\n",
    "        disc_model.save('./DigitModels/DISmodel_'+str(step)+'.h5')"
   ]
  },
  {
   "cell_type": "code",
   "execution_count": null,
   "metadata": {},
   "outputs": [],
   "source": []
  }
 ],
 "metadata": {
  "kernelspec": {
   "display_name": "Python 3",
   "language": "python",
   "name": "python3"
  },
  "language_info": {
   "codemirror_mode": {
    "name": "ipython",
    "version": 3
   },
   "file_extension": ".py",
   "mimetype": "text/x-python",
   "name": "python",
   "nbconvert_exporter": "python",
   "pygments_lexer": "ipython3",
   "version": "3.7.6"
  }
 },
 "nbformat": 4,
 "nbformat_minor": 4
}
