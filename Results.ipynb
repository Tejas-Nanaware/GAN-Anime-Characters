{
 "cells": [
  {
   "cell_type": "code",
   "execution_count": null,
   "metadata": {},
   "outputs": [],
   "source": [
    "import math\n",
    "import numpy as np\n",
    "import pandas as pd\n",
    "import matplotlib.pyplot as plt\n",
    "# MacOS matplotlib kernel issue\n",
    "import os\n",
    "os.environ['KMP_DUPLICATE_LIB_OK']='True'"
   ]
  },
  {
   "cell_type": "markdown",
   "metadata": {},
   "source": [
    "# Results of DCGAN"
   ]
  },
  {
   "cell_type": "code",
   "execution_count": null,
   "metadata": {},
   "outputs": [],
   "source": [
    "df = pd.read_csv('log.csv')\n",
    "df"
   ]
  },
  {
   "cell_type": "code",
   "execution_count": null,
   "metadata": {},
   "outputs": [],
   "source": [
    "plt.figure(figsize=(30,5))\n",
    "plt.plot(df['Step'],df['DiscLoss'],'b',label='Discriminator Loss', c='red')\n",
    "plt.plot(df['Step'],df['GANLoss'],'b',label='GAN Loss', c='blue')\n",
    "plt.title('Discriminator and GAN Losses')\n",
    "plt.ylabel('Epoch')\n",
    "plt.xlabel('Loss')\n",
    "plt.legend(loc='best')\n",
    "plt.show()"
   ]
  },
  {
   "cell_type": "code",
   "execution_count": null,
   "metadata": {},
   "outputs": [],
   "source": [
    "plt.figure(figsize=(30,5))\n",
    "plt.plot(df['Step'],df['DiscAcc'],'b',label='Discriminator Accuracy', c='red')\n",
    "plt.plot(df['Step'],df['GANAcc'],'b',label='GAN Accuracy', c='blue')\n",
    "plt.title('Discriminator and GAN Accuracies')\n",
    "plt.ylabel('Epoch')\n",
    "plt.xlabel('Loss')\n",
    "plt.legend(loc='best')\n",
    "plt.show()"
   ]
  },
  {
   "cell_type": "code",
   "execution_count": null,
   "metadata": {},
   "outputs": [],
   "source": [
    "rounded = int(math.ceil(len(df) / 100.0)) * 100\n",
    "ranges = np.arange(0, (rounded + 100), 100)\n",
    "for i in range(len(ranges[:-1])):\n",
    "    df_slice = df.loc[(df['Step'] >= ranges[i]) & (df['Step'] <ranges[i+1])]\n",
    "    plt.figure(figsize=(15,5))\n",
    "    plt.plot(df_slice['Step'],df_slice['DiscAcc'],'b',label='Discriminator Accuracy', c='red')\n",
    "    plt.plot(df_slice['Step'],df_slice['GANAcc'],'b',label='GAN Accuracy', c='blue')\n",
    "    plt.title('Discriminator and GAN Accuracies')\n",
    "    plt.ylabel('Epoch')\n",
    "    plt.xlabel('Loss')\n",
    "    plt.legend(loc='best')\n",
    "    plt.show()"
   ]
  },
  {
   "cell_type": "markdown",
   "metadata": {},
   "source": [
    "# Results of WGAN"
   ]
  },
  {
   "cell_type": "code",
   "execution_count": null,
   "metadata": {},
   "outputs": [],
   "source": [
    "df = pd.read_csv('wlog.csv')\n",
    "df"
   ]
  },
  {
   "cell_type": "code",
   "execution_count": null,
   "metadata": {},
   "outputs": [],
   "source": [
    "plt.figure(figsize=(30,5))\n",
    "plt.plot(df['Step'],df['DiscLoss'],'b',label='Discriminator Loss', c='red')\n",
    "plt.plot(df['Step'],df['GANLoss'],'b',label='GAN Loss', c='blue')\n",
    "plt.title('Discriminator and GAN Losses')\n",
    "plt.ylabel('Epoch')\n",
    "plt.xlabel('Loss')\n",
    "plt.legend(loc='best')\n",
    "plt.show()"
   ]
  },
  {
   "cell_type": "code",
   "execution_count": null,
   "metadata": {},
   "outputs": [],
   "source": [
    "plt.figure(figsize=(30,5))\n",
    "plt.plot(df['Step'],df['DiscLoss'],'b',label='Discriminator Loss', c='red')\n",
    "plt.plot(df['Step'],df['GANLoss'],'b',label='GAN Loss', c='blue')\n",
    "plt.title('Discriminator and GAN Losses')\n",
    "plt.ylabel('Epoch')\n",
    "plt.xlabel('Loss')\n",
    "plt.legend(loc='best')\n",
    "plt.show()"
   ]
  },
  {
   "cell_type": "code",
   "execution_count": null,
   "metadata": {},
   "outputs": [],
   "source": [
    "plt.figure(figsize=(30,5))\n",
    "plt.plot(df['Step'],df['DiscAcc'],'b',label='Discriminator Accuracy', c='red')\n",
    "plt.plot(df['Step'],df['GANAcc'],'b',label='GAN Accuracy', c='blue')\n",
    "plt.title('Discriminator and GAN Accuracies')\n",
    "plt.ylabel('Epoch')\n",
    "plt.xlabel('Loss')\n",
    "plt.legend(loc='best')\n",
    "plt.show()"
   ]
  },
  {
   "cell_type": "code",
   "execution_count": null,
   "metadata": {},
   "outputs": [],
   "source": [
    "rounded = int(math.ceil(len(df) / 100.0)) * 100\n",
    "ranges = np.arange(0, (rounded + 100), 100)\n",
    "for i in range(len(ranges[:-1])):\n",
    "    df_slice = df.loc[(df['Step'] >= ranges[i]) & (df['Step'] <ranges[i+1])]\n",
    "    plt.figure(figsize=(15,5))\n",
    "    plt.plot(df_slice['Step'],df_slice['DiscAcc'],'b',label='Discriminator Accuracy', c='red')\n",
    "    plt.plot(df_slice['Step'],df_slice['GANAcc'],'b',label='GAN Accuracy', c='blue')\n",
    "    plt.title('Discriminator and GAN Accuracies')\n",
    "    plt.ylabel('Epoch')\n",
    "    plt.xlabel('Loss')\n",
    "    plt.legend(loc='best')\n",
    "    plt.show()"
   ]
  },
  {
   "cell_type": "code",
   "execution_count": null,
   "metadata": {},
   "outputs": [],
   "source": []
  }
 ],
 "metadata": {
  "kernelspec": {
   "display_name": "Python 3",
   "language": "python",
   "name": "python3"
  },
  "language_info": {
   "codemirror_mode": {
    "name": "ipython",
    "version": 3
   },
   "file_extension": ".py",
   "mimetype": "text/x-python",
   "name": "python",
   "nbconvert_exporter": "python",
   "pygments_lexer": "ipython3",
   "version": "3.7.6"
  }
 },
 "nbformat": 4,
 "nbformat_minor": 4
}
